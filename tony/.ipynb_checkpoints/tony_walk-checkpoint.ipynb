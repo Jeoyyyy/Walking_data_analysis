{
 "cells": [
  {
   "cell_type": "code",
   "execution_count": 1,
   "metadata": {
    "collapsed": true
   },
   "outputs": [],
   "source": [
    "import numpy as np\n",
    "import pandas as pd\n",
    "import matplotlib.pyplot as plt\n",
    "from scipy import signal\n",
    "from scipy import stats"
   ]
  },
  {
   "cell_type": "code",
   "execution_count": 2,
   "metadata": {
    "collapsed": true
   },
   "outputs": [],
   "source": [
    "def DealWithTime(data):\n",
    "    data['time'] = pd.to_datetime(data['timestamp'])\n",
    "    return data"
   ]
  },
  {
   "cell_type": "code",
   "execution_count": 3,
   "metadata": {
    "collapsed": true
   },
   "outputs": [],
   "source": [
    "def GetData(filename):\n",
    "    data = pd.read_csv(filename)\n",
    "    data = data[['loggingTime(txt)','motionUserAccelerationX(G)', 'motionUserAccelerationY(G)', 'motionUserAccelerationZ(G)',\\\n",
    "                 'gyroRotationX(rad/s)', 'gyroRotationY(rad/s)', 'gyroRotationZ(rad/s)',\\\n",
    "                 'motionYaw(rad)', 'motionRoll(rad)', 'motionPitch(rad)']]\n",
    "    colums_name = ['timestamp','accX', 'accY', 'accZ', 'gyroX', 'gyroY', 'gyroZ', 'yaw','roll', 'pitch']\n",
    "    data.columns = colums_name\n",
    "    return data"
   ]
  },
  {
   "cell_type": "code",
   "execution_count": 4,
   "metadata": {
    "collapsed": true
   },
   "outputs": [],
   "source": [
    "g = 9.81\n",
    "def ScaleAcc(data):\n",
    "    data['accX'] = data['accX']*g\n",
    "    data['accY'] = data['accY']*g\n",
    "    data['accZ'] = data['accZ']*g\n",
    "    return data"
   ]
  },
  {
   "cell_type": "code",
   "execution_count": 5,
   "metadata": {
    "collapsed": true
   },
   "outputs": [],
   "source": [
    "def Overview(data):\n",
    "    plt.figure(figsize=(15,20))\n",
    "    p1 = plt.subplot(3,1,1)\n",
    "    p2 = plt.subplot(3,1,2)\n",
    "    p3 = plt.subplot(3,1,3)\n",
    "    p1.plot(data['accX'])\n",
    "    p2.plot(data['accY'])\n",
    "    p3.plot(data['accZ'])\n",
    "    plt.show()\n",
    "\n",
    "    plt.figure(figsize=(15,20))\n",
    "    p4 = plt.subplot(3,1,1)\n",
    "    p5 = plt.subplot(3,1,2)\n",
    "    p6 = plt.subplot(3,1,3)\n",
    "    p4.plot(data['gyroX'])\n",
    "    p5.plot(data['gyroY'])\n",
    "    p6.plot(data['gyroZ'])\n",
    "    plt.show()"
   ]
  },
  {
   "cell_type": "code",
   "execution_count": 6,
   "metadata": {
    "collapsed": true
   },
   "outputs": [],
   "source": [
    "fs = 30\n",
    "def butter_bandpass(lowcut, highcut, fs, order=3):\n",
    "    nyq = 0.5 * fs\n",
    "    low = lowcut / nyq\n",
    "    high = highcut / nyq\n",
    "    b, a = signal.butter(order, [low, high], btype='band')\n",
    "    return b, a\n",
    "\n",
    "def butter_bandpass_filter(data, lowcut, highcut, fs, order=3):\n",
    "    b, a = butter_bandpass(lowcut, highcut, fs, order=order)\n",
    "    y = signal.filtfilt(b, a, data)\n",
    "    return y\n",
    "\n",
    "def butter_lowpass(highcut, fs, order=3):\n",
    "    nyq = 0.5 * fs\n",
    "    high = highcut / nyq\n",
    "    b, a = signal.butter(order, high, btype='lowpass')\n",
    "    return b, a\n",
    "\n",
    "def butter_lowpass_filter(data, highcut, fs, order=3):\n",
    "    b, a = butter_lowpass(highcut, fs, order=order)\n",
    "    y = signal.filtfilt(b, a, data)\n",
    "    return y\n",
    "\n",
    "def getStepFrequency(data):\n",
    "    ffted = np.fft.fft(data)\n",
    "    freqs = np.fft.fftfreq(len(ffted))\n",
    "    idx = np.argmax(np.abs(ffted))\n",
    "    freq = freqs[idx]\n",
    "    return abs(freq*fs)\n",
    "\n"
   ]
  },
  {
   "cell_type": "code",
   "execution_count": 7,
   "metadata": {
    "collapsed": true
   },
   "outputs": [],
   "source": [
    "def seperateEachStep(data, step_cycle):\n",
    "    steps = pd.DataFrame()\n",
    "    idx_list = []\n",
    "    for i in range(0, data.shape[0], step_cycle):\n",
    "        idx = np.argmax(data['gyroZ'].iloc[i:i+step_cycle])\n",
    "        idx_list.append(idx)\n",
    "#     print(idx_list)\n",
    "    for i in range(0, len(idx_list)-1):\n",
    "        prev = idx_list[i]\n",
    "        nxt = idx_list[i+1]\n",
    "        while (data['gyroZ'].iloc[prev]>data['gyroZ'].iloc[prev+1]):\n",
    "            prev +=1\n",
    "        while (data['gyroZ'].iloc[nxt]>data['gyroZ'].iloc[nxt-1]):\n",
    "            nxt -=1\n",
    "        floor1 = prev;\n",
    "        floor2 = nxt;\n",
    "        if (floor1 < floor2):\n",
    "            idx = np.argmax(data['gyroZ'].iloc[floor1:floor2])\n",
    "            steps = steps.append(data.iloc[idx])\n",
    "    return steps"
   ]
  },
  {
   "cell_type": "code",
   "execution_count": 8,
   "metadata": {
    "collapsed": true
   },
   "outputs": [],
   "source": [
    "def calcSpeedY(data, begin, end):\n",
    "    return data.loc[begin:end, 'accY'].sum()/fs\n",
    "def calcSpeedZ(data, begin, end):\n",
    "    return data.loc[begin:end, 'accZ'].sum()/fs\n",
    "def calcSpeedX(data, begin, end):\n",
    "    return data.loc[begin:end, 'accX'].sum()/fs"
   ]
  },
  {
   "cell_type": "code",
   "execution_count": 9,
   "metadata": {
    "collapsed": true
   },
   "outputs": [],
   "source": [
    "def CorrectedV(begin, end, deltaVy, deltaVx, deltaT, initVy, initVx, data):\n",
    "    data.set_value(begin, 'Vy', initVy)\n",
    "    data.set_value(begin, 'Vx', initVx)\n",
    "    for i in range(int(begin+1), int(end)):\n",
    "        data.set_value(i,'Vy', data.loc[i-1,'Vy']+ (data.loc[i-1,'accY'] + deltaVy/deltaT)/fs)\n",
    "        data.set_value(i,'Vx', data.loc[i-1,'Vx']+ (data.loc[i-1,'accX'] + deltaVx/deltaT)/fs)"
   ]
  },
  {
   "cell_type": "code",
   "execution_count": 10,
   "metadata": {
    "collapsed": true
   },
   "outputs": [],
   "source": [
    "def calcY(data, begin, end):\n",
    "    return data.loc[begin:end, 'Vy'].sum() / fs\n",
    "\n",
    "def calcX(data, begin, end):\n",
    "    return data.loc[begin:end, 'Vx'].sum() / fs\n",
    "\n",
    "def CorrectedY(begin, end, calcY, deltaT, data):\n",
    "    data.set_value(begin,'correctY', 0)\n",
    "    for i in range(int(begin+1), int(end)):\n",
    "        data.set_value(i,'correctY', data.loc[i-1,'correctY']+ (data.loc[i-1,'Vy'])/fs)\n",
    "#         data.set_value(i,'correctY', data.loc[i-1,'correctY']+ (data.loc[i-1,'Vy'] - calcY/deltaT)/fs)"
   ]
  },
  {
   "cell_type": "code",
   "execution_count": 11,
   "metadata": {
    "collapsed": true
   },
   "outputs": [],
   "source": [
    "def getFC(data, begin, end):\n",
    "    idx = np.argmin(data.loc[begin:end, 'correctY'])\n",
    "    return data.loc[idx, 'correctY']  "
   ]
  },
  {
   "cell_type": "code",
   "execution_count": 12,
   "metadata": {
    "collapsed": true
   },
   "outputs": [],
   "source": [
    "def plotSeperateStep(data, steps):\n",
    "    plt.figure(figsize=(8,4))\t \n",
    "    plt.plot(steps['gyroZ'],'r*', data['gyroZ'], 'b--')\n",
    "    plt.title('step seperating according to gyroZ')\n",
    "    plt.ylabel('gyroZ (rad/s)')\n",
    "    plt.savefig('step seperating according to gyroZ')\n",
    "    plt.clf()\n",
    "    \n",
    "    plt.plot(steps['accY'],'r*', data['accY'], 'b--')\n",
    "    plt.title(label + ' accY after step seperating')\n",
    "    plt.ylabel('accY ( m/(s^2) )')\n",
    "    plt.savefig(label + ' accY after step seperating')\n",
    "    plt.clf()\n",
    "    \n",
    "    plt.plot(steps['accX'],'r*', data['accX'], 'b--')\n",
    "    plt.title(label + ' accX after step seperating')\n",
    "    plt.ylabel('accX ( m/(s^2) )')\n",
    "    plt.savefig(label + ' accX after step seperating')\n",
    "    plt.clf()"
   ]
  },
  {
   "cell_type": "code",
   "execution_count": 13,
   "metadata": {
    "collapsed": true
   },
   "outputs": [],
   "source": [
    "def plotAboutFilteringAcc(data, highcut):\n",
    "    plt.figure(figsize=(10,8))\n",
    "    filtered = butter_lowpass_filter(data['accX'],highcut, fs)\n",
    "    p1 = plt.subplot(2,1,1)\n",
    "    p2 = plt.subplot(2,1,2)\n",
    "    p1.plot(data['accX'])\n",
    "    p1.set_title(label + ' accX before filtering')\n",
    "    p1.set_ylabel('accX ( m/(s^2) )')\n",
    "    p2.plot(filtered)\n",
    "    p2.set_title(label + ' accX after filtering')\n",
    "    p2.set_ylabel('accX ( m/(s^2) )')\n",
    "    plt.savefig(label + ' accX before & after filtering')\n",
    "    plt.clf()\n",
    "\n",
    "    filtered = butter_lowpass_filter(data['accY'],highcut, fs)\n",
    "    p1 = plt.subplot(2,1,1)\n",
    "    p2 = plt.subplot(2,1,2)\n",
    "    p1.plot(data['accY'])\n",
    "    p1.set_title(label + ' accY before filtering')\n",
    "    p1.set_ylabel('accY ( m/(s^2) )')\n",
    "    p2.plot(filtered)\n",
    "    p2.set_title(label + ' accY after filtering')\n",
    "    p2.set_ylabel('accY ( m/(s^2) )')\n",
    "    plt.savefig(label + ' accY before & after filtering')\n",
    "    plt.clf()\n",
    "\n",
    "    filtered = butter_lowpass_filter(data['accZ'],highcut, fs)\n",
    "    p1 = plt.subplot(2,1,1)\n",
    "    p2 = plt.subplot(2,1,2)\n",
    "    p1.plot(data['accZ'])\n",
    "    p1.set_title(label + ' accZ before filtering')\n",
    "    p1.set_ylabel('accZ ( m/(s^2) )')\n",
    "    p2.plot(filtered)\n",
    "    p2.set_title(label + ' accZ after filtering')\n",
    "    p2.set_ylabel('accZ ( m/(s^2) )')\n",
    "    plt.savefig(label + ' accZ before & after filtering')\n",
    "    plt.clf()"
   ]
  },
  {
   "cell_type": "code",
   "execution_count": 14,
   "metadata": {
    "collapsed": true
   },
   "outputs": [],
   "source": [
    "def plotAboutFilteringGyro(data, highcut, lowcut):\t\n",
    "    filtered = butter_bandpass_filter(data['gyroZ'],lowcut, highcut, fs)\n",
    "    p1 = plt.subplot(2,1,1)\n",
    "    p2 = plt.subplot(2,1,2)\n",
    "    p1.plot(data['gyroZ'])\n",
    "    p1.set_title(label + ' gyroZ before filtering')\n",
    "    p1.set_ylabel('gyroZ (rad/s)')\n",
    "    p2.plot(filtered)\n",
    "    p2.set_title(label + ' gyroZ after filtering')\n",
    "    p2.set_ylabel('gyroZ (rad/s)')\n",
    "    plt.savefig(label + ' gyroZ before & after filtering')\n",
    "    plt.clf()\n",
    "\n",
    "    filtered = butter_bandpass_filter(data['gyroX'],lowcut, highcut, fs)\n",
    "    p1 = plt.subplot(2,1,1)\n",
    "    p2 = plt.subplot(2,1,2)\n",
    "    p1.plot(data['gyroX'])\n",
    "    p1.set_title(label + ' gyroX before filtering')\n",
    "    p1.set_ylabel('gyroX (rad/s)')\n",
    "    p2.plot(filtered)\n",
    "    p2.set_title(label + ' gyroX after filtering')\n",
    "    p2.set_ylabel('gyroX (rad/s)')\n",
    "    plt.savefig(label + ' gyroX before & after filtering')\n",
    "    plt.clf()\n",
    "\n",
    "    filtered = butter_bandpass_filter(data['gyroY'],lowcut, highcut, fs)\n",
    "    p1 = plt.subplot(2,1,1)\n",
    "    p2 = plt.subplot(2,1,2)\n",
    "    p1.plot(data['gyroY'])\n",
    "    p1.set_title(label + ' gyroY before filtering')\n",
    "    p1.set_ylabel('gyroY (rad/s)')\n",
    "    p2.plot(filtered)\n",
    "    p2.set_title(label + ' gyroY after filtering')\n",
    "    p2.set_ylabel('gyroY (rad/s)')\n",
    "    plt.savefig(label + ' gyroY before & after filtering')\n",
    "    plt.clf()"
   ]
  },
  {
   "cell_type": "code",
   "execution_count": 15,
   "metadata": {
    "collapsed": true
   },
   "outputs": [],
   "source": [
    "label = 'Tony\\'s right'\n",
    "def process_data(data):\n",
    "    highcut = 5\n",
    "    plotAboutFilteringAcc(data, highcut)\n",
    "    data['accX'] = butter_lowpass_filter(data['accX'],highcut, fs)\n",
    "    data['accY'] = butter_lowpass_filter(data['accY'],highcut, fs)\n",
    "    data['accZ'] = butter_lowpass_filter(data['accZ'],highcut, fs)\n",
    "\n",
    "    lowcut = 0.1\n",
    "    highcut = 4.5\n",
    "    plotAboutFilteringGyro(data, highcut, lowcut)\n",
    "    data['gyroX'] = butter_bandpass_filter(data['gyroX'],lowcut, highcut, fs)\n",
    "    data['gyroY'] = butter_bandpass_filter(data['gyroY'],lowcut, highcut, fs)\n",
    "    data['gyroZ'] = butter_bandpass_filter(data['gyroZ'],lowcut, highcut, fs)\n",
    "\n",
    "    step_frequency = getStepFrequency(data['gyroZ'])\n",
    "    print(label+' step frequency: ', end=' ')\n",
    "    print(step_frequency)\n",
    "    \n",
    "    step_cycle = int(round(fs/step_frequency))\n",
    "    steps = seperateEachStep(data, step_cycle)\n",
    "\n",
    "    plotSeperateStep(data, steps)\n",
    "\n",
    "    steps['initVy'] = 0\n",
    "    steps['initVx'] = 0.10 * steps['gyroZ']\n",
    "    steps['endVy'] = steps['initVy'].shift(-1)\n",
    "    steps['endVx'] = steps['initVx'].shift(-1)\n",
    "\n",
    "    steps['begin_idx'] = steps.index\n",
    "    steps['end_idx'] = steps['begin_idx'].shift(-1)\n",
    "    steps = steps.dropna()\n",
    "    steps['end_idx'] = steps['end_idx'].astype(int)\n",
    "\n",
    "    steps['calcVy'] = steps.apply((lambda row: calcSpeedY(data, row['begin_idx'], row['end_idx'])), axis=1)\n",
    "    steps['calcVz'] = steps.apply((lambda row: calcSpeedZ(data, row['begin_idx'], row['end_idx'])), axis=1)\n",
    "    steps['calcVx'] = steps.apply((lambda row: calcSpeedX(data, row['begin_idx'], row['end_idx'])), axis=1)\n",
    "\n",
    "    steps['deltaVy'] = steps['endVy'] - steps['calcVy']\n",
    "    steps['deltaVx'] = steps['endVx'] - steps['calcVx'] \n",
    "    steps['deltaT'] = (steps['end_idx'] - steps['begin_idx'])/fs\n",
    "    steps = steps.reset_index(drop=True)\n",
    "\n",
    "    begin = steps['begin_idx'].iloc[0]\n",
    "    end = steps['end_idx'].iloc[-1]\n",
    "    step_data = data[int(begin): int(end)]\n",
    "\n",
    "    steps.apply((lambda row: CorrectedV(row['begin_idx'], row['end_idx'], row['deltaVy'], row['deltaVx'], row['deltaT'],\\\n",
    "                                   row['initVy'], row['initVx'], step_data)), axis=1)\n",
    "\n",
    "    steps['calcY'] = steps.apply((lambda row: calcY(step_data, row['begin_idx'], row['end_idx'])), axis=1)\n",
    "    steps['calcX'] = steps.apply((lambda row: calcX(step_data, row['begin_idx'], row['end_idx'])), axis=1)\n",
    "\n",
    "    steps.apply((lambda row: CorrectedY(row['begin_idx'], row['end_idx'], row['calcY'], row['deltaT'],step_data)), axis=1)\n",
    "\n",
    "    steps['FC'] = steps.apply((lambda row: getFC(step_data, row['begin_idx'], row['end_idx'])), axis=1)\n",
    "\n",
    "    plt.plot(step_data['time'], step_data['Vy'], 'b-')\n",
    "    plt.plot(steps['time'], steps['initVy'], 'r*')\n",
    "    plt.xlabel('time')\n",
    "    plt.ylabel('Vy(m/s)')\n",
    "    plt.title(label + ' Vy')\n",
    "    plt.savefig(label + ' Vy')\n",
    "    plt.clf()\n",
    "\n",
    "    plt.plot(step_data['time'], step_data['Vx'], 'b-')\n",
    "    plt.plot(steps['time'], steps['initVx'], 'r*')\n",
    "    plt.xlabel('time')\n",
    "    plt.ylabel('Vx(m/s)')\n",
    "    plt.title(label + ' Vx')\n",
    "    plt.savefig(label + ' Vx')\n",
    "    plt.clf()\n",
    "\n",
    "    return steps"
   ]
  },
  {
   "cell_type": "code",
   "execution_count": null,
   "metadata": {},
   "outputs": [],
   "source": [
    "    pd.options.mode.chained_assignment = None\n",
    "    origin_right =  GetData(\"../dataset/tony_right_2017-12-05_14-20-49_-0800.csv\")\n",
    "    origin_right = DealWithTime(origin_right)\n",
    "    Overview(origin_right[600:1400])"
   ]
  },
  {
   "cell_type": "code",
   "execution_count": null,
   "metadata": {
    "collapsed": true
   },
   "outputs": [],
   "source": []
  }
 ],
 "metadata": {
  "kernelspec": {
   "display_name": "Python 3",
   "language": "python",
   "name": "python3"
  },
  "language_info": {
   "codemirror_mode": {
    "name": "ipython",
    "version": 3
   },
   "file_extension": ".py",
   "mimetype": "text/x-python",
   "name": "python",
   "nbconvert_exporter": "python",
   "pygments_lexer": "ipython3",
   "version": "3.6.1"
  }
 },
 "nbformat": 4,
 "nbformat_minor": 2
}
