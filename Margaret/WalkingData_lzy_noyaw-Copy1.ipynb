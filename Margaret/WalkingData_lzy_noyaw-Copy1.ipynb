{
 "cells": [
  {
   "cell_type": "code",
   "execution_count": 1,
   "metadata": {
    "collapsed": true
   },
   "outputs": [],
   "source": [
    "import numpy as np\n",
    "import pandas as pd\n",
    "import matplotlib.pyplot as plt\n",
    "from scipy import signal\n",
    "import re"
   ]
  },
  {
   "cell_type": "code",
   "execution_count": 2,
   "metadata": {
    "collapsed": true
   },
   "outputs": [],
   "source": [
    "pattern = re.compile(r'(\\d+):(\\d+)\\.(\\d+)')\n",
    "def to_time(s):\n",
    "    m = pattern.search(s)\n",
    "    if int(m.group(3)) > 10:\n",
    "        return int(m.group(1))*60 + int(m.group(2)) + int(m.group(3))*0.001\n",
    "    else:\n",
    "        return int(m.group(1))*60 + int(m.group(2)) + int(m.group(3))*0.1"
   ]
  },
  {
   "cell_type": "code",
   "execution_count": 3,
   "metadata": {
    "collapsed": true
   },
   "outputs": [],
   "source": [
    "def DealWithTime(data):\n",
    "#     data['time'] = data['timestamp'].apply(to_time)\n",
    "#     return data.drop('timestamp',axis=1)\n",
    "    data['time'] = pd.to_datetime(data['timestamp'])\n",
    "    return data"
   ]
  },
  {
   "cell_type": "code",
   "execution_count": 4,
   "metadata": {
    "collapsed": true
   },
   "outputs": [],
   "source": [
    "def GetData(filename):\n",
    "    data = pd.read_csv(filename)\n",
    "    data = data[['loggingTime(txt)','motionUserAccelerationX(G)', 'motionUserAccelerationY(G)', 'motionUserAccelerationZ(G)',\\\n",
    "                 'gyroRotationX(rad/s)', 'gyroRotationY(rad/s)', 'gyroRotationZ(rad/s)',\\\n",
    "                 'motionYaw(rad)', 'motionRoll(rad)', 'motionPitch(rad)']]\n",
    "    colums_name = ['timestamp','accX', 'accY', 'accZ', 'gyroX', 'gyroY', 'gyroZ', 'yaw','roll', 'pitch']\n",
    "    data.columns = colums_name\n",
    "    return data"
   ]
  },
  {
   "cell_type": "code",
   "execution_count": 5,
   "metadata": {
    "collapsed": true
   },
   "outputs": [],
   "source": [
    "def Overview(data):\n",
    "    plt.figure(figsize=(15,20))\n",
    "    p1 = plt.subplot(3,1,1)\n",
    "    p2 = plt.subplot(3,1,2)\n",
    "    p3 = plt.subplot(3,1,3)\n",
    "    p1.plot(left['accX'])\n",
    "    p2.plot(left['accY'])\n",
    "    p3.plot(left['accZ'])\n",
    "    plt.show()\n",
    "\n",
    "    plt.figure(figsize=(15,20))\n",
    "    p4 = plt.subplot(3,1,1)\n",
    "    p5 = plt.subplot(3,1,2)\n",
    "    p6 = plt.subplot(3,1,3)\n",
    "    p4.plot(left['gyroX'])\n",
    "    p5.plot(left['gyroY'])\n",
    "    p6.plot(left['gyroZ'])\n",
    "    plt.show()"
   ]
  },
  {
   "cell_type": "code",
   "execution_count": 6,
   "metadata": {
    "collapsed": true
   },
   "outputs": [],
   "source": [
    "def butter_bandpass(lowcut, highcut, fs, order=3):\n",
    "    nyq = 0.5 * fs\n",
    "    low = lowcut / nyq\n",
    "    high = highcut / nyq\n",
    "    b, a = signal.butter(order, [low, high], btype='band')\n",
    "    return b, a\n",
    "\n",
    "def butter_bandpass_filter(data, lowcut, highcut, fs, order=3):\n",
    "    b, a = butter_bandpass(lowcut, highcut, fs, order=order)\n",
    "    y = signal.filtfilt(b, a, data)\n",
    "    return y\n",
    "\n",
    "def butter_lowpass(highcut, fs, order=3):\n",
    "    nyq = 0.5 * fs\n",
    "    high = highcut / nyq\n",
    "    b, a = signal.butter(order, high, btype='lowpass')\n",
    "    return b, a\n",
    "\n",
    "def butter_lowpass_filter(data, highcut, fs, order=3):\n",
    "    b, a = butter_lowpass(highcut, fs, order=order)\n",
    "    y = signal.filtfilt(b, a, data)\n",
    "    return y\n",
    "\n",
    "def getStepFrequency(data):\n",
    "    ffted = np.fft.fft(data)\n",
    "    freqs = np.fft.fftfreq(len(ffted))\n",
    "    idx = np.argmax(np.abs(ffted))\n",
    "    freq = freqs[idx]\n",
    "    return abs(freq*fs)\n",
    "\n",
    "fs = 30"
   ]
  },
  {
   "cell_type": "code",
   "execution_count": 7,
   "metadata": {
    "collapsed": true
   },
   "outputs": [],
   "source": [
    "left = GetData(\"../dataset/zmq_left_2017-11-27_14-31-39_-0800.csv\")\n",
    "right =  GetData(\"../dataset/zmq_right_2017-11-27_14-31-48_-0800.csv\")\n",
    "# left = GetData(\"../dataset/lzy_left_2017-11-27_14-36-05_-0800.csv\")\n",
    "# right =  GetData(\"../dataset/lzy_right_2017-11-27_14-36-02_-0800.csv\")"
   ]
  },
  {
   "cell_type": "code",
   "execution_count": 8,
   "metadata": {
    "collapsed": true
   },
   "outputs": [],
   "source": [
    "left = DealWithTime(left)\n",
    "right = DealWithTime(right)"
   ]
  },
  {
   "cell_type": "code",
   "execution_count": 10,
   "metadata": {},
   "outputs": [],
   "source": [
    "right = right[500:1000]\n",
    "right = right.reset_index(drop=True)\n",
    "# Overview(right)"
   ]
  },
  {
   "cell_type": "code",
   "execution_count": null,
   "metadata": {},
   "outputs": [],
   "source": [
    "left = left[500:1000]\n",
    "left = left.reset_index(drop=True)\n",
    "#Overview(left)"
   ]
  },
  {
   "cell_type": "code",
   "execution_count": null,
   "metadata": {},
   "outputs": [],
   "source": [
    "# highcut = 5.5\n",
    "# filtered = butter_lowpass_filter(left['accY'],highcut, fs)\n",
    "# plt.figure(figsize=(10,5))\n",
    "# plt.plot(filtered)\n",
    "# plt.show()\n",
    "# plt.figure(figsize=(10,5))\n",
    "# plt.plot(np.fft.rfft(filtered))\n",
    "# plt.show()\n",
    "# plt.figure(figsize=(10,5))\n",
    "# plt.plot(left['accY'])\n",
    "# plt.show()\n",
    "# plt.figure(figsize=(10,5))\n",
    "# plt.plot(np.fft.rfft(left['accY']))\n",
    "# plt.show()"
   ]
  },
  {
   "cell_type": "code",
   "execution_count": null,
   "metadata": {},
   "outputs": [],
   "source": [
    "# lowcut = 0.08\n",
    "# highcut = 6\n",
    "# filtered = butter_bandpass_filter(left['gyroZ'],lowcut, highcut, fs)\n",
    "# plt.figure(figsize=(10,5))\n",
    "# plt.plot(filtered)\n",
    "# plt.show()\n",
    "# plt.figure(figsize=(10,5))\n",
    "# plt.plot(np.fft.rfft(filtered))\n",
    "# plt.show()\n",
    "# plt.figure(figsize=(10,5))\n",
    "# plt.plot(left['gyroZ'])\n",
    "# plt.show()"
   ]
  },
  {
   "cell_type": "code",
   "execution_count": null,
   "metadata": {
    "collapsed": true
   },
   "outputs": [],
   "source": [
    "highcut = 5.5\n",
    "left['accX'] = butter_lowpass_filter(left['accX'],highcut, fs)\n",
    "left['accY'] = butter_lowpass_filter(left['accY'],highcut, fs)\n",
    "left['accZ'] = butter_lowpass_filter(left['accZ'],highcut, fs)"
   ]
  },
  {
   "cell_type": "code",
   "execution_count": null,
   "metadata": {
    "collapsed": true
   },
   "outputs": [],
   "source": [
    "lowcut = 0.08\n",
    "highcut = 6\n",
    "left['gyroX'] = butter_bandpass_filter(left['gyroX'],lowcut, highcut, fs)\n",
    "left['gyroY'] = butter_bandpass_filter(left['gyroY'],lowcut, highcut, fs)\n",
    "left['gyroZ'] = butter_bandpass_filter(left['gyroZ'],lowcut, highcut, fs)"
   ]
  },
  {
   "cell_type": "code",
   "execution_count": null,
   "metadata": {},
   "outputs": [],
   "source": [
    "# print(getStepFrequency(left['accY']))\n",
    "# print(getStepFrequency(left['accX']))\n",
    "# print(getStepFrequency(left['accZ']))\n",
    "# print(getStepFrequency(left['gyroY']))\n",
    "# print(getStepFrequency(left['gyroX']))\n",
    "# print(getStepFrequency(left['gyroZ']))"
   ]
  },
  {
   "cell_type": "code",
   "execution_count": null,
   "metadata": {
    "collapsed": true
   },
   "outputs": [],
   "source": [
    "step_frequency = getStepFrequency(left['gyroX'])"
   ]
  },
  {
   "cell_type": "code",
   "execution_count": null,
   "metadata": {
    "collapsed": true
   },
   "outputs": [],
   "source": [
    "step_cycle = int(round(fs/step_frequency))"
   ]
  },
  {
   "cell_type": "code",
   "execution_count": null,
   "metadata": {},
   "outputs": [],
   "source": [
    "# def seperateEachStep(data, step_cycle):\n",
    "#     steps = pd.DataFrame()\n",
    "#     for i in range(0, data.shape[0], step_cycle):\n",
    "#         idx = np.argmin(data['gyroZ'].iloc[i:i+step_cycle])\n",
    "#         steps = steps.append(data.iloc[idx])\n",
    "#     return steps\n",
    "# def seperateEachStep(data, step_cycle):\n",
    "#     steps = pd.DataFrame()\n",
    "#     idx_list = []\n",
    "#     for i in range(0, data.shape[0], step_cycle):\n",
    "#         idx = np.argmin(data['gyroZ'].iloc[i:i+step_cycle])\n",
    "#         if(idx != data.shape[0] - 1):\n",
    "#             idx_list.append(idx)\n",
    "# #         steps = steps.append(data.iloc[idx])\n",
    "# #     print(idx_list)\n",
    "#     for i in range(0, len(idx_list)-1):\n",
    "#         prev = idx_list[i]\n",
    "#         nxt = idx_list[i+1]\n",
    "#         interval = nxt - prev\n",
    "#         floor1 = int(prev + interval /3)\n",
    "#         floor2 = int(nxt - interval /3)\n",
    "#         if(floor1 != floor2):\n",
    "#             idx = np.argmin(np.abs(data['gyroZ'].iloc[floor1:floor2]))\n",
    "#             steps = steps.append(data.iloc[idx])\n",
    "#     return steps\n",
    "\n",
    "def seperateEachStep(data, step_cycle):\n",
    "    steps = pd.DataFrame()\n",
    "    idx_list = []\n",
    "    for i in range(0, data.shape[0], step_cycle):\n",
    "        idx = np.argmin(data['gyroZ'].iloc[i:i+step_cycle])\n",
    "        if(idx != data.shape[0] - 1):\n",
    "            idx_list.append(idx)\n",
    "    print(idx_list)\n",
    "    for i in range(0, len(idx_list)-1):\n",
    "        prev = idx_list[i]\n",
    "        nxt = idx_list[i+1]\n",
    "        while (data['gyroZ'].iloc[prev]<data['gyroZ'].iloc[prev+1]):\n",
    "            prev +=1\n",
    "        while (data['gyroZ'].iloc[nxt]<data['gyroZ'].iloc[nxt-1]):\n",
    "            nxt -=1\n",
    "        floor1 = prev;\n",
    "        floor2 = nxt;\n",
    "        if(floor1 < floor2):\n",
    "            idx = np.argmin(data['gyroZ'].iloc[floor1:floor2])\n",
    "            steps = steps.append(data.iloc[idx])\n",
    "    return steps"
   ]
  },
  {
   "cell_type": "code",
   "execution_count": null,
   "metadata": {},
   "outputs": [],
   "source": [
    "steps = seperateEachStep(left, step_cycle)\n",
    "plt.figure(figsize=(10,5))\n",
    "plt.plot(steps['gyroZ'],'r*',left['gyroZ'], 'b--')\n",
    "plt.show()\n",
    "plt.figure(figsize=(10,5))\n",
    "plt.plot(steps['accY'],'r*',left['accY'], 'b--')\n",
    "plt.show()"
   ]
  },
  {
   "cell_type": "code",
   "execution_count": null,
   "metadata": {
    "collapsed": true
   },
   "outputs": [],
   "source": [
    "steps['initVy'] = 0\n",
    "steps['initVx'] = 0.10* steps['gyroZ']\n",
    "steps['endVy'] = 0\n",
    "steps['endVx'] = steps['initVx'].shift(-1)"
   ]
  },
  {
   "cell_type": "code",
   "execution_count": null,
   "metadata": {
    "collapsed": true
   },
   "outputs": [],
   "source": [
    "steps['begin_idx'] = steps.index\n",
    "steps['end_idx'] = steps['begin_idx'].shift(-1)\n",
    "steps = steps.dropna()\n",
    "steps['end_idx'] = steps['end_idx'].astype(int)"
   ]
  },
  {
   "cell_type": "code",
   "execution_count": null,
   "metadata": {
    "collapsed": true
   },
   "outputs": [],
   "source": [
    "def calcSpeedY(data, begin, end):\n",
    "    return data.loc[begin:end, 'accY'].sum()/fs\n",
    "def calcSpeedZ(data, begin, end):\n",
    "    return data.loc[begin:end, 'accZ'].sum()/fs\n",
    "def calcSpeedX(data, begin, end):\n",
    "    return data.loc[begin:end, 'accX'].sum()/fs"
   ]
  },
  {
   "cell_type": "code",
   "execution_count": null,
   "metadata": {
    "collapsed": true
   },
   "outputs": [],
   "source": [
    "steps['calcVy'] = steps.apply((lambda row: calcSpeedY(left, row['begin_idx'], row['end_idx'])), axis=1)\n",
    "steps['calcVz'] = steps.apply((lambda row: calcSpeedZ(left, row['begin_idx'], row['end_idx'])), axis=1)\n",
    "steps['calcVx'] = steps.apply((lambda row: calcSpeedX(left, row['begin_idx'], row['end_idx'])), axis=1)"
   ]
  },
  {
   "cell_type": "code",
   "execution_count": null,
   "metadata": {
    "collapsed": true
   },
   "outputs": [],
   "source": [
    "steps['deltaVy'] = steps['endVy'] - steps['calcVy']\n",
    "steps['deltaVx'] = steps['endVx'] - steps['calcVx'] "
   ]
  },
  {
   "cell_type": "code",
   "execution_count": null,
   "metadata": {
    "collapsed": true
   },
   "outputs": [],
   "source": [
    "steps['deltaT'] = (steps['end_idx'] - steps['begin_idx'])/fs"
   ]
  },
  {
   "cell_type": "code",
   "execution_count": null,
   "metadata": {
    "collapsed": true,
    "scrolled": true
   },
   "outputs": [],
   "source": [
    "steps = steps.reset_index(drop=True)"
   ]
  },
  {
   "cell_type": "code",
   "execution_count": null,
   "metadata": {},
   "outputs": [],
   "source": [
    "begin = steps['begin_idx'].iloc[0]\n",
    "end = steps['end_idx'].iloc[-1]\n",
    "left_data = left[begin: end]\n",
    "left_data['Vy'] = np.nan\n",
    "left_data['Vx'] = np.nan"
   ]
  },
  {
   "cell_type": "code",
   "execution_count": null,
   "metadata": {
    "collapsed": true
   },
   "outputs": [],
   "source": [
    "def CorrectedV(begin, end, deltaVy, deltaVx, deltaT, initVy, initVx, data):\n",
    "    data.loc[begin,'Vy'] = initVy\n",
    "    data.loc[begin,'Vx'] = initVx\n",
    "    for i in range(int(begin+1), int(end)):\n",
    "        data.loc[i,'Vy'] = data.loc[i-1,'Vy']+ (data.loc[i-1,'accY'] + deltaVy/deltaT)/fs\n",
    "        data.loc[i,'Vx'] = data.loc[i-1,'Vx']+ (data.loc[i-1,'accX'] + deltaVx/deltaT)/fs"
   ]
  },
  {
   "cell_type": "code",
   "execution_count": null,
   "metadata": {},
   "outputs": [],
   "source": [
    "steps.apply((lambda row: CorrectedV(row['begin_idx'], row['end_idx'], row['deltaVy'], row['deltaVx'], row['deltaT'],\\\n",
    "                                   row['initVy'], row['initVx'], left_data)), axis=1)"
   ]
  },
  {
   "cell_type": "code",
   "execution_count": null,
   "metadata": {
    "collapsed": true
   },
   "outputs": [],
   "source": [
    "# def getFC(data, begin, end):\n",
    "#     return data.loc[begin:end, 'Vy'].sum()/fs\n",
    "def calcY(data, begin, end):\n",
    "    return data.loc[begin:end, 'Vy'].sum()/fs\n",
    "\n",
    "def CorrectedY(begin, end, calcY, deltaT, data):\n",
    "    data.loc[begin,'correctY'] = 0\n",
    "    for i in range(int(begin+1), int(end)):\n",
    "        data.loc[i,'correctY'] = data.loc[i-1,'correctY']+ (data.loc[i-1,'Vy'] - calcY/deltaT)/fs\n",
    "        \n",
    "def getFC(data, begin, end):\n",
    "    idx = np.argmin(data.loc[begin:end, 'correctY'])\n",
    "    return data.loc[idx, 'correctY']"
   ]
  },
  {
   "cell_type": "code",
   "execution_count": null,
   "metadata": {},
   "outputs": [],
   "source": [
    "steps['calcY'] = steps.apply((lambda row: calcY(left_data, row['begin_idx'], row['end_idx'])), axis=1)\n",
    "# print(steps)"
   ]
  },
  {
   "cell_type": "code",
   "execution_count": null,
   "metadata": {},
   "outputs": [],
   "source": [
    "steps.apply((lambda row: CorrectedY(row['begin_idx'], row['end_idx'], row['calcY'], row['deltaT'],left_data)), axis=1)\n",
    "# print(left_data)"
   ]
  },
  {
   "cell_type": "code",
   "execution_count": null,
   "metadata": {},
   "outputs": [],
   "source": [
    "steps['FC'] = steps.apply((lambda row: getFC(left_data, row['begin_idx'], row['end_idx'])), axis=1)\n",
    "# print(steps)"
   ]
  },
  {
   "cell_type": "code",
   "execution_count": null,
   "metadata": {},
   "outputs": [],
   "source": [
    "plt.plot(left_data['time'], left_data['Vy'], 'b-')\n",
    "plt.plot(steps['time'], steps['endVy'], 'r*')\n",
    "plt.show()\n",
    "plt.plot(steps['FC'], 'b.')\n",
    "plt.show()"
   ]
  },
  {
   "cell_type": "code",
   "execution_count": null,
   "metadata": {},
   "outputs": [],
   "source": [
    "plt.plot(left_data['time'], left_data['Vx'], 'b-')\n",
    "plt.plot(steps['time'], steps['initVx'], 'r*')\n",
    "plt.show()"
   ]
  },
  {
   "cell_type": "code",
   "execution_count": null,
   "metadata": {
    "collapsed": true
   },
   "outputs": [],
   "source": []
  }
 ],
 "metadata": {
  "kernelspec": {
   "display_name": "Python 3",
   "language": "python",
   "name": "python3"
  },
  "language_info": {
   "codemirror_mode": {
    "name": "ipython",
    "version": 3
   },
   "file_extension": ".py",
   "mimetype": "text/x-python",
   "name": "python",
   "nbconvert_exporter": "python",
   "pygments_lexer": "ipython3",
   "version": "3.6.1"
  }
 },
 "nbformat": 4,
 "nbformat_minor": 2
}
